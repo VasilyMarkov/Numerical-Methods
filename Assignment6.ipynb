{
 "cells": [
  {
   "cell_type": "markdown",
   "metadata": {},
   "source": [
    "# Assignment 6\n"
   ]
  },
  {
   "cell_type": "code",
   "execution_count": 2,
   "metadata": {},
   "outputs": [],
   "source": [
    "import numpy as np\n",
    "import sympy as sp\n",
    "import math"
   ]
  },
  {
   "cell_type": "markdown",
   "metadata": {},
   "source": [
    "### Task 1"
   ]
  },
  {
   "cell_type": "markdown",
   "metadata": {},
   "source": [
    "### Task 2"
   ]
  },
  {
   "cell_type": "markdown",
   "metadata": {},
   "source": [
    "### Task 6"
   ]
  },
  {
   "cell_type": "code",
   "execution_count": 3,
   "metadata": {},
   "outputs": [
    {
     "data": {
      "image/png": "[encoded data removed]",
      "text/plain": [
       "<Figure size 1500x300 with 4 Axes>"
      ]
     },
     "metadata": {},
     "output_type": "display_data"
    }
   ],
   "source": [
    "import numpy as np\n",
    "import matplotlib.pyplot as plt\n",
    "\n",
    "x = np.linspace(-10, 10, 400)\n",
    "y = np.linspace(-10, 10, 400)\n",
    "\n",
    "X, Y = np.meshgrid(x, y)\n",
    "\n",
    "mask = X >= 0\n",
    "\n",
    "conditions = [X / Y <= 1, X / Y >= 1, X*Y <= 1, X*Y >= 1]\n",
    "titles = [\"x/y <= 1\", \"x/y >= 1\", \"x*y <= 1\", \"x*y >= 1\"]\n",
    "\n",
    "fig, axis = plt.subplots(1,4)\n",
    "fig.set_size_inches(15,3)\n",
    "for ax, cond, title in zip(axis, conditions, titles):\n",
    "    ax.contourf(X, Y, cond, levels=[-0.5, 0.5, 1.5], colors=['blue', 'white'])\n",
    "    ax.set_title(title)\n",
    "    ax.set_xlabel('x')\n",
    "    ax.set_ylabel('y')\n",
    "    ax.grid(True)\n",
    "plt.subplots_adjust(wspace=0.4) \n",
    "plt.show()"
   ]
  },
  {
   "cell_type": "markdown",
   "metadata": {},
   "source": [
    "Как видно, на всех графиках кроме последнего, на множестве, определенном в $R_{++}^2$, можно нарисовать отрезок, соединяющий 2 точки множества, у которого все точки не принадлежат исходным множествам. Значит 4ое множество не выпуклое."
   ]
  },
  {
   "cell_type": "markdown",
   "metadata": {},
   "source": [
    "### Task 7"
   ]
  },
  {
   "cell_type": "markdown",
   "metadata": {},
   "source": [
    "#### 1."
   ]
  },
  {
   "cell_type": "markdown",
   "metadata": {},
   "source": [
    "Функция считается выпуклой если её Гессиан больше нуля. "
   ]
  },
  {
   "cell_type": "markdown",
   "metadata": {},
   "source": [
    "$$\\nabla^2 f = \\left( \\begin{matrix} \\frac{2}{y} & \\frac{-2x}{y^2}  \\\\ \\frac{-2x}{y^2} & \\frac{2x^2}{y^{3}}  \\end{matrix} \\right)$$"
   ]
  },
  {
   "cell_type": "markdown",
   "metadata": {},
   "source": [
    " $$ (\\frac{2}{y} - \\lambda)(\\frac{2x^2}{y^{3}} - \\lambda) - (\\frac{-2x}{y^2})^2 = 0$$\n",
    " $$ \\lambda_{1} = 0$$\n",
    " $$ \\lambda_{2} = -(\\frac{2x^2-2y^2}{y^3})$$\n",
    " $$ \\lambda_{2} \\ge 0, y^2 \\ge x^2$$"
   ]
  },
  {
   "cell_type": "markdown",
   "metadata": {},
   "source": [
    "#### 2."
   ]
  },
  {
   "cell_type": "markdown",
   "metadata": {},
   "source": [
    "$$\\frac{\\partial^2 f}{\\partial x_i\\partial x_j} = \\left(\\prod_{i=1}^{n}x_i\\right)^{\\frac{1}{n}}\\left[\\frac{1}{n^2}\\frac{1}{x_{i}x_{j}} - \\frac{1}{n}\\frac{1}{x_{j}^2} \\right] $$\n",
    "$$\\sum_{i=1}^nv_{i}v_{j}\\frac{\\partial^2 f}{\\partial x_i\\partial x_j} = \\frac{1}{n^2}\\left(\\prod_{i=1}^{n}x_i\\right)^{\\frac{1}{n}} \n",
    "\\left[\\sum_{j=1}^n\\frac{v_{j}}{x_{j}}\\sum_{i=1}^n\\frac{v_{i}}{x_{i}} - n\\sum_{j=1}^n\\frac{v_{i}^2}{x_{j}^2} \\right] \\le 0$$\n",
    "$$\\sum_{j=1}^n\\frac{v_{j}}{x_{j}}\\sum_{i=1}^n\\frac{v_{i}}{x_{i}} \\le n\\sum_{j=1}^n\\frac{v_{i}^2}{x_{j}^2}$$\n",
    "Воспользуемся неравенством Коши-Буняковского\n",
    "$$ \\left(\\sum_{j=1}^n\\frac{v_{j}}{x_{j}}\\right)^2 = \\left(\\sum_{j=1}^n\\frac{v_{j}}{x_{j}}1\\right)^2 = \n",
    "{\\langle a, b \\rangle}^2 \\le {||a||}^2{||b||}^2 =\n",
    " \\sum_{j=1}^n\\frac{v_{j}^2}{x_{j}^2}\\sum_{j=1}^n1^2 = n\\sum_{j=1}^n\\frac{v_{i}^2}{x_{j}^2}$$"
   ]
  },
  {
   "cell_type": "markdown",
   "metadata": {},
   "source": [
    "#### 3."
   ]
  },
  {
   "cell_type": "markdown",
   "metadata": {},
   "source": [
    "$$\\nabla^2 f = \\frac{1}{\\vec 1 \\cdot \\xi} \\text{diag} (\\xi) - \\frac{1}{\\left(\\vec 1 \\cdot \\xi\\right)^2} \\xi\\xi^T,$$\n",
    "$$ \\xi = (e^{x_{1}}, e^{x_{2}},...,e^{x_{n}})$$"
   ]
  },
  {
   "cell_type": "markdown",
   "metadata": {},
   "source": []
  },
  {
   "cell_type": "markdown",
   "metadata": {},
   "source": [
    "Для выпуклости необходимо показать, что $\\forall v$: $v^T \\nabla^2 f(x) v \\ge 0$"
   ]
  },
  {
   "cell_type": "markdown",
   "metadata": {},
   "source": [
    "$$\\forall v: v^T \\nabla^2 f(x) v = \\frac{1}{\\left(\\vec 1 \\cdot \\xi\\right)^2}\\left[\\sum_{i=1}^n\\xi_{i}\\sum_{i=1}^n{v_{i}}^2\\xi_{i} - \\sum_{i=1}^n{v_{i}}^2\\xi_{i}^2\\right] \\ge 0 $$"
   ]
  },
  {
   "cell_type": "markdown",
   "metadata": {},
   "source": [
    "Это выражение удовлетворяет неравенству Коши-Буняковского $ {\\langle a^T, b \\rangle}^2 \\le (a^Ta)(b^Tb) $ для векторов  $a_{i} = v_{i}\\sqrt z_{i}, b_{i} = \\sqrt z_{i}.$"
   ]
  },
  {
   "cell_type": "markdown",
   "metadata": {},
   "source": [
    "### Task 8"
   ]
  },
  {
   "cell_type": "markdown",
   "metadata": {},
   "source": [
    "#### 1."
   ]
  },
  {
   "cell_type": "markdown",
   "metadata": {},
   "source": [
    "Для этой задачи достаточно показать, числитель и знаменатель выпкулы, тогда полное выражение тоже будет выпукло."
   ]
  },
  {
   "cell_type": "markdown",
   "metadata": {},
   "source": [
    "$$ \\frac {\\partial^2}{\\partial x^2} ||Ax-b||_{2}^2 = 2A^TA > 0 $$"
   ]
  },
  {
   "cell_type": "markdown",
   "metadata": {},
   "source": [
    "$1-x^Tx$ на множестве $\\{x | ||x||_{2} < 1\\}$ выпукла"
   ]
  },
  {
   "cell_type": "markdown",
   "metadata": {},
   "source": [
    "### Task 10"
   ]
  },
  {
   "cell_type": "code",
   "execution_count": 1,
   "metadata": {},
   "outputs": [
    {
     "data": {
      "image/png": "[encoded data removed]",
      "text/plain": [
       "<Figure size 640x480 with 1 Axes>"
      ]
     },
     "metadata": {},
     "output_type": "display_data"
    }
   ],
   "source": [
    "import numpy as np\n",
    "import cvxpy as cp\n",
    "import matplotlib.pyplot as plt\n",
    "\n",
    "def eq(x, coeffs):\n",
    "    return coeffs[0]*x**2+coeffs[1]*x+coeffs[2]\n",
    "\n",
    "def numpy_lsq(x, y):\n",
    "    A = np.vstack([x**2, x, np.ones(len(x))]).T\n",
    "    a = np.linalg.lstsq(A, y, rcond=None)[0]\n",
    "    return eq(x, a)\n",
    "\n",
    "def cvxp_lsq(x, y):\n",
    "    a = cp.Variable()\n",
    "    b = cp.Variable()\n",
    "    c = cp.Variable()\n",
    "    objective = cp.Minimize(cp.sum_squares(a * x**2 + b*x + c - y))\n",
    "    problem = cp.Problem(objective)\n",
    "    problem.solve()\n",
    "    return eq(x, (a.value, b.value, c.value))\n",
    "\n",
    "def cvxp_lsq(x, y):\n",
    "    a = cp.Variable()\n",
    "    b = cp.Variable()\n",
    "    c = cp.Variable()\n",
    "    objective = cp.Minimize(cp.sum_squares(a * x**2 + b*x + c - y))\n",
    "    problem = cp.Problem(objective)\n",
    "    problem.solve()\n",
    "    return eq(x, (a.value, b.value, c.value))\n",
    "\n",
    "data = np.load('data_fit.npz')\n",
    "x = data['x']\n",
    "y = data['y']\n",
    "data.close()\n",
    "\n",
    "np_fit = numpy_lsq(x,y)\n",
    "cvxp_fit = cvxp_lsq(x,y)\n",
    "fig, axis = plt.subplots()\n",
    "axis.plot(x, y, 'b.', x, np_fit, 'r', x, cvxp_fit, 'g')\n",
    "plt.show()"
   ]
  },
  {
   "cell_type": "code",
   "execution_count": null,
   "metadata": {},
   "outputs": [],
   "source": []
  },
  {
   "cell_type": "code",
   "execution_count": null,
   "metadata": {},
   "outputs": [],
   "source": []
  }
 ],
 "metadata": {
  "kernelspec": {
   "display_name": "Python 3 (ipykernel)",
   "language": "python",
   "name": "python3"
  },
  "language_info": {
   "codemirror_mode": {
    "name": "ipython",
    "version": 3
   },
   "file_extension": ".py",
   "mimetype": "text/x-python",
   "name": "python",
   "nbconvert_exporter": "python",
   "pygments_lexer": "ipython3",
   "version": "3.10.12"
  }
 },
 "nbformat": 4,
 "nbformat_minor": 4
}
