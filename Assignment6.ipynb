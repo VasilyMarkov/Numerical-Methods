{
 "cells": [
  {
   "cell_type": "markdown",
   "metadata": {},
   "source": [
    "# Assignment 6\n"
   ]
  },
  {
   "cell_type": "code",
   "execution_count": 3,
   "metadata": {},
   "outputs": [],
   "source": [
    "import numpy as np\n",
    "import sympy as sp\n",
    "import math"
   ]
  },
  {
   "cell_type": "markdown",
   "metadata": {},
   "source": [
    "### Task 1"
   ]
  },
  {
   "cell_type": "markdown",
   "metadata": {},
   "source": [
    "### Task 2"
   ]
  },
  {
   "cell_type": "markdown",
   "metadata": {},
   "source": [
    "### Task 7"
   ]
  },
  {
   "cell_type": "markdown",
   "metadata": {},
   "source": [
    "#### 1."
   ]
  },
  {
   "cell_type": "markdown",
   "metadata": {},
   "source": [
    "Функция считается выпуклой если её Гессиан больше нуля. "
   ]
  },
  {
   "cell_type": "markdown",
   "metadata": {},
   "source": [
    "$$\\nabla^2 f = \\left( \\begin{matrix} \\frac{2}{y} & \\frac{-2x}{y^2}  \\\\ \\frac{-2x}{y^2} & \\frac{2x^2}{y^{3}}  \\end{matrix} \\right)$$"
   ]
  },
  {
   "cell_type": "markdown",
   "metadata": {},
   "source": [
    " $$ (\\frac{2}{y} - \\lambda)(\\frac{2x^2}{y^{3}} - \\lambda) - (\\frac{-2x}{y^2})^2 = 0$$\n",
    " $$ \\lambda_{1} = 0$$\n",
    " $$ \\lambda_{2} = -(\\frac{2x^2-2y^2}{y^3})$$\n",
    " $$ \\lambda_{2} \\ge 0, y^2 \\ge x^2$$"
   ]
  },
  {
   "cell_type": "markdown",
   "metadata": {},
   "source": [
    "#### 2."
   ]
  },
  {
   "cell_type": "markdown",
   "metadata": {},
   "source": [
    "$$\\frac{\\partial^2 f}{\\partial x_i\\partial x_j} = \\left(\\prod_{i=1}^{n}x_i\\right)^{\\frac{1}{n}}\\left[\\frac{1}{n^2}\\frac{1}{x_{i}x_{j}} - \\frac{1}{n}\\frac{1}{x_{j}^2} \\right] $$\n",
    "$$\\sum_{i=1}^nv_{i}v_{j}\\frac{\\partial^2 f}{\\partial x_i\\partial x_j} = \\frac{1}{n^2}\\left(\\prod_{i=1}^{n}x_i\\right)^{\\frac{1}{n}} \n",
    "\\left[\\sum_{j=1}^n\\frac{v_{j}}{x_{j}}\\sum_{i=1}^n\\frac{v_{i}}{x_{i}} - n\\sum_{j=1}^n\\frac{v_{i}^2}{x_{j}^2} \\right] \\le 0$$\n",
    "$$\\sum_{j=1}^n\\frac{v_{j}}{x_{j}}\\sum_{i=1}^n\\frac{v_{i}}{x_{i}} \\le n\\sum_{j=1}^n\\frac{v_{i}^2}{x_{j}^2}$$\n",
    "Воспользуемся неравенством Коши-Буняковского\n",
    "$$ \\left(\\sum_{j=1}^n\\frac{v_{j}}{x_{j}}\\right)^2 = \\left(\\sum_{j=1}^n\\frac{v_{j}}{x_{j}}1\\right)^2 = \n",
    "{\\langle a, b \\rangle}^2 \\le {||a||}^2{||b||}^2 =\n",
    " \\sum_{j=1}^n\\frac{v_{j}^2}{x_{j}^2}\\sum_{j=1}^n1^2 = n\\sum_{j=1}^n\\frac{v_{i}^2}{x_{j}^2}$$"
   ]
  },
  {
   "cell_type": "markdown",
   "metadata": {},
   "source": []
  },
  {
   "cell_type": "markdown",
   "metadata": {},
   "source": [
    "#### 3."
   ]
  },
  {
   "cell_type": "markdown",
   "metadata": {},
   "source": []
  }
 ],
 "metadata": {
  "kernelspec": {
   "display_name": "Python 3 (ipykernel)",
   "language": "python",
   "name": "python3"
  },
  "language_info": {
   "codemirror_mode": {
    "name": "ipython",
    "version": 3
   },
   "file_extension": ".py",
   "mimetype": "text/x-python",
   "name": "python",
   "nbconvert_exporter": "python",
   "pygments_lexer": "ipython3",
   "version": "3.10.12"
  }
 },
 "nbformat": 4,
 "nbformat_minor": 4
}
