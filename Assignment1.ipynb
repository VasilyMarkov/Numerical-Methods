{
 "cells": [
  {
   "cell_type": "markdown",
   "metadata": {},
   "source": [
    "# Assignment 1\n"
   ]
  },
  {
   "cell_type": "markdown",
   "metadata": {},
   "source": [
    "Task 1.\n",
    "\n",
    "Consider the matrix:\n",
    "$$ \n",
    "\\begin{aligned}\n",
    "H(v) = I-2vv^T\n",
    "\\end{aligned}\n",
    "$$\n",
    "If \\\\(v\\\\) is a unit vector, then \\\\(vv^T = 1\\\\) \\\n",
    "If \\\\(H(v)\\\\) is orthogonal, then \\\\(H(v)H(v)^T = I\\\\)\n",
    "$$ \n",
    "\\begin{aligned}\n",
    "(I-2vv^T)(I-2vv^T) = I - 4vv^T+4vv^Tvv^T=I \\Rightarrow H(v) = Q\n",
    "\\end{aligned}\n",
    "$$ \n",
    "That means rank of the \\\\(H(v)\\\\) equal full rank."
   ]
  },
  {
   "cell_type": "markdown",
   "metadata": {},
   "source": [
    "Task 2. \\\n",
    "1.\n",
    "$$ \n",
    "\\begin{aligned}\n",
    "||x||_2 \\leq \\sqrt{m}||x||_\\infty, \\\\ \\\\\n",
    "\\sqrt{\\sum_{i=1}^{m}|x_i|^2} \\leq \\sqrt{m}\\max_i|x_i|, \\\\ \\\\\n",
    "\\sum_{i=1}^{m}|x_i|^2 \\leq m (\\max_i|x_i|)^2\n",
    "\\end{aligned}\n",
    "$$\n",
    "2.\n",
    "\n"
   ]
  },
  {
   "cell_type": "markdown",
   "metadata": {},
   "source": [
    "Task 3. \n",
    "\n",
    "Consider the matrix:\n",
    "$$ \n",
    "\\begin{aligned}\n",
    "A = I+uv^T\n",
    "\\end{aligned}\n",
    "$$\n",
    "Assuming A it is not singular  \\\\(\\Rightarrow (I+uv^T)(I+\\alpha uv^T) = I\\\\) \\\n",
    "Solving that equation, we get \\\\(\\alpha = -(uv^t)/2 \\Rightarrow \\\\)A it is not singular for each \\\\(u\\\\) and \\\\(v\\\\), \\\\(uv^T = -2\\alpha\\\\)."
   ]
  },
  {
   "cell_type": "markdown",
   "metadata": {},
   "source": [
    "Task 4.\n",
    "\n",
    "$$ \n",
    "\\begin{aligned}\n",
    " || UA ||^2 = trace((BA)^*BA) = trace(A^*B^*BA) = trace(A^*A) = || A ||^2 \\\\ \\Rightarrow \n",
    " || UA || = || A ||,\n",
    "\\end{aligned}\n",
    "$$\n",
    "where * is the Hermitian transpose"
   ]
  },
  {
   "cell_type": "code",
   "execution_count": null,
   "metadata": {},
   "outputs": [],
   "source": []
  }
 ],
 "metadata": {
  "kernelspec": {
   "display_name": "Python 3 (ipykernel)",
   "language": "python",
   "name": "python3"
  },
  "language_info": {
   "codemirror_mode": {
    "name": "ipython",
    "version": 3
   },
   "file_extension": ".py",
   "mimetype": "text/x-python",
   "name": "python",
   "nbconvert_exporter": "python",
   "pygments_lexer": "ipython3",
   "version": "3.10.12"
  }
 },
 "nbformat": 4,
 "nbformat_minor": 4
}
