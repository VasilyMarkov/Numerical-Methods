{
  "metadata": {
    "language_info": {
      "codemirror_mode": {
        "name": "python",
        "version": 3
      },
      "file_extension": ".py",
      "mimetype": "text/x-python",
      "name": "python",
      "nbconvert_exporter": "python",
      "pygments_lexer": "ipython3",
      "version": "3.8"
    },
    "kernelspec": {
      "name": "python",
      "display_name": "Python (Pyodide)",
      "language": "python"
    }
  },
  "nbformat_minor": 4,
  "nbformat": 4,
  "cells": [
    {
      "cell_type": "markdown",
      "source": "# Assignment 1\n",
      "metadata": {}
    },
    {
      "cell_type": "markdown",
      "source": "Task 1.\n\nConsider the matrix:\n$$ \n\\begin{aligned}\nH(v) = I-2vv^T\n\\end{aligned}\n$$\nIf \\\\(v\\\\) is a unit vector, then \\\\(vv^T = 1\\\\) \\\nIf \\\\(H(v)\\\\) is orthogonal, then \\\\(H(v)H(v)^T = I\\\\)\n$$ \n\\begin{aligned}\n(I-2vv^T)(I-2vv^T) = I - 4vv^T+4vv^Tvv^T=1 \\Rightarrow H(v) = Q\n\\end{aligned}\n$$ \nThat means rank of the \\\\(H(v)\\\\) equal full rank.",
      "metadata": {}
    },
    {
      "cell_type": "markdown",
      "source": "",
      "metadata": {}
    },
    {
      "cell_type": "markdown",
      "source": "Task 2.",
      "metadata": {}
    },
    {
      "cell_type": "code",
      "source": "",
      "metadata": {},
      "execution_count": null,
      "outputs": []
    }
  ]
}