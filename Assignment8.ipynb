{
 "cells": [
  {
   "cell_type": "markdown",
   "metadata": {},
   "source": [
    "## Assignment 8"
   ]
  },
  {
   "cell_type": "markdown",
   "metadata": {},
   "source": [
    "#### Task 1"
   ]
  },
  {
   "cell_type": "markdown",
   "metadata": {},
   "source": [
    "Возьмем $ p_0 = 75/100 = 0.75$ \\\n",
    "Ошибка $\\delta p$  определяется как $\\delta p = \\sqrt {\\frac{p_0(1-p_0)}{n}} = 0.0433$ \\\n",
    "Для доверительного интервала 95% для стандартной ошибки принимается множитель 1.96. \\\n",
    "$\\delta p = 1.96*0.043 = 0.0845$ \\\n",
    "Интервал: $[0.75-0.0845, 0.75+0.0845] = [0.6675, 0.8345]$"
   ]
  },
  {
   "cell_type": "markdown",
   "metadata": {},
   "source": []
  },
  {
   "cell_type": "markdown",
   "metadata": {},
   "source": [
    "#### Task 2"
   ]
  },
  {
   "cell_type": "markdown",
   "metadata": {},
   "source": [
    "Для независимых случайных величин $ x_1 $ и $ x_2 $ распределение $f_y, \\ y = x_1+x_2$ равно свертки функций $ f_{x1} $ и $ f_{x2} $\n",
    "$$ f_{Y}(y) = \\int_{-\\infty}^\\infty f_{X_1}(y-x_2) f_{X_2}(x_2)dx_2 $$"
   ]
  },
  {
   "cell_type": "markdown",
   "metadata": {},
   "source": [
    "Рассмотрим нормальные распределения для $ x_1 $ и $ x_2 $:"
   ]
  },
  {
   "cell_type": "markdown",
   "metadata": {},
   "source": [
    "$$ f_{X_1}(x_1) = \\frac{1}{\\sqrt{2\\pi}\\sigma_{X_1}} e^{-(x_1-\\mu_{X_1})^2/(2\\sigma_{X_1}^2)} $$\n",
    "$$ f_{X_2}(x_2) = \\frac{1}{\\sqrt{2\\pi}\\sigma_{X_2}} e^{-(x_2-\\mu_{X_2})^2/(2\\sigma_{X_2}^2)} $$"
   ]
  },
  {
   "cell_type": "markdown",
   "metadata": {},
   "source": [
    "Подставляя в формулу свертки получим:"
   ]
  },
  {
   "cell_type": "markdown",
   "metadata": {},
   "source": [
    "$$ f_{Y}(y) = \\int_{-\\infty}^\\infty \n",
    "    \\frac{1}{\\sqrt{2\\pi}\\sigma_{X_1}}e^{-{(y-{x_2}-\\mu_{X_1})^2 \\over 2\\sigma_{X_1}^2}} \n",
    "    \\frac{1}{\\sqrt{2\\pi}\\sigma_{X_2}}e^{-{({x_2}-\\mu_{X_2})^2 \\over 2\\sigma_{X_2}^2}} = \n",
    "$$\n",
    "$$\n",
    "\\int_{-\\infty}^\\infty\n",
    "   \\frac{1}{\\sqrt{2\\pi}\\sqrt{2\\pi}\\sigma_{X_2}\\sigma_{X_1}}\n",
    "   \\exp \\left[\n",
    "      -\\frac\n",
    "         {\n",
    "            {x_2}^2(\\sigma_{X_2}^2 + \\sigma_{X_1}^2) - \n",
    "            2{x_2}(\\sigma_{X_2}^2(y - \\mu_{X_1}) + \\sigma_{X_1}^2\\mu_{X_2}) +\n",
    "            \\sigma_{X_2}^2(y^2 + \\mu_{X_1}^2 - 2{x_1}\\mu_{X_1}) + \\sigma_{X_1}^2\\mu_{X_2}^2\n",
    "         }\n",
    "         {2\\sigma_{X_1}^2\\sigma_{X_2}^2}\n",
    "   \\right]dx_2\n",
    "$$"
   ]
  },
  {
   "cell_type": "markdown",
   "metadata": {},
   "source": [
    "Определим $\\sigma_{Y} = \\sqrt {\\sigma_{X_1}^2 + \\sigma_{X_2}^2}$"
   ]
  },
  {
   "cell_type": "markdown",
   "metadata": {},
   "source": [
    "$$\n",
    "\\int_{-\\infty}^\\infty\n",
    "   \\frac{1}{\\sqrt{2\\pi}\\sigma_Y}\n",
    "   \\exp \\left[\n",
    "      -\\frac\n",
    "         {\n",
    "            \\sigma_Y^2\\left(\\sigma_{X_2}^2(z - \\mu_{X_1})^2 + \\sigma_{X_1}^2\\mu_{X_2}^2\\right) -\n",
    "            \\left(\\sigma_{X_2}^2(y - \\mu_{X_1}) + \\sigma_{X_1}^2\\mu_{X_2}\\right)^2\n",
    "         }\n",
    "         {2\\sigma_Y^2\\left(\\sigma_{X_2}\\sigma_{X_1}\\right)^2}\n",
    "   \\right]\n",
    "   \\frac{1}{\\sqrt{2\\pi}\\frac{\\sigma_{X_2}\\sigma_{X_1}}{\\sigma_Y}}\n",
    "   \\exp \\left[\n",
    "      -\\frac\n",
    "         {\n",
    "            \\left({x_2} - \\frac{\\sigma_{X_2}^2(z - \\mu_{X_1}) + \\sigma_{X_1}^2\\mu_{X_2}}{\\sigma_Y^2}\\right)^2\n",
    "         }\n",
    "         {2\\left(\\frac{\\sigma_{X_2}\\sigma_{X_1}}{\\sigma_Y}\\right)^2}\n",
    "   \\right]\n",
    "   \\, dx_2 = \\\\  \n",
    "= \\frac{1}{\\sqrt{2\\pi}\\sigma_Y}\n",
    "      \\exp \\left[ - { (y-(\\mu_{X_2}+\\mu_{X_1}))^2 \\over 2\\sigma_Y^2 } \\right]\n",
    "      \\int_{-\\infty}^{\\infty}\n",
    "      \\frac{1}{\\sqrt{2\\pi}\\frac{\\sigma_{X_2}\\sigma_{X_1}}{\\sigma_Y}}\n",
    "      \\exp \\left[ - \\frac{\\left({x_2}-\\frac{\\sigma_{X_2}^2(y-\\mu_{X_1})+\\sigma_{X_1}^2\\mu_{X_2}}{\\sigma_Y^2}\\right)^2}{2\\left(\\frac{\\sigma_{X_2}\\sigma_{X_1}}{\\sigma_Y}\\right)^2} \\right]\n",
    "   \\, dx_2\n",
    "$$"
   ]
  },
  {
   "cell_type": "markdown",
   "metadata": {},
   "source": [
    "Т.к. подинтегральная часть равна 1. \n",
    "$$ f_Y(y) = \\frac{1}{\\sqrt{2\\pi}\\sigma_Y} e^{- { (y-(\\mu_{X_2}+\\mu_{X_1}))^2 \\over 2\\sigma_Y^2} } $$"
   ]
  },
  {
   "cell_type": "markdown",
   "metadata": {},
   "source": []
  }
 ],
 "metadata": {
  "kernelspec": {
   "display_name": "Python 3 (ipykernel)",
   "language": "python",
   "name": "python3"
  },
  "language_info": {
   "codemirror_mode": {
    "name": "ipython",
    "version": 3
   },
   "file_extension": ".py",
   "mimetype": "text/x-python",
   "name": "python",
   "nbconvert_exporter": "python",
   "pygments_lexer": "ipython3",
   "version": "3.10.12"
  }
 },
 "nbformat": 4,
 "nbformat_minor": 4
}
