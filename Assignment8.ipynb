{
 "cells": [
  {
   "cell_type": "markdown",
   "metadata": {},
   "source": [
    "## Assignment 8"
   ]
  },
  {
   "cell_type": "markdown",
   "metadata": {},
   "source": [
    "#### Task 1"
   ]
  },
  {
   "cell_type": "markdown",
   "metadata": {},
   "source": [
    "Возьмем $ p_0 = 75/100 = 0.75$ \\\n",
    "Ошибка $\\delta p$  определяется как $\\delta p = \\sqrt {\\frac{p_0(1-p_0)}{n}} = 0.0433$ \\\n",
    "Для доверительного интервала 95% для стандартной ошибки принимается множитель 1.96. \\\n",
    "$\\delta p = 1.96*0.043 = 0.0845$ \\\n",
    "Интервал: $[0.75-0.0845, 0.75+0.0845] = [0.6675, 0.8345]$"
   ]
  },
  {
   "cell_type": "markdown",
   "metadata": {},
   "source": []
  }
 ],
 "metadata": {
  "kernelspec": {
   "display_name": "Python 3 (ipykernel)",
   "language": "python",
   "name": "python3"
  },
  "language_info": {
   "codemirror_mode": {
    "name": "ipython",
    "version": 3
   },
   "file_extension": ".py",
   "mimetype": "text/x-python",
   "name": "python",
   "nbconvert_exporter": "python",
   "pygments_lexer": "ipython3",
   "version": "3.10.12"
  }
 },
 "nbformat": 4,
 "nbformat_minor": 4
}
