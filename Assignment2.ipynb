{
 "cells": [
  {
   "cell_type": "markdown",
   "metadata": {},
   "source": [
    "# Assignment 2\n"
   ]
  },
  {
   "cell_type": "code",
   "execution_count": 1,
   "metadata": {},
   "outputs": [],
   "source": [
    "import numpy as np\n",
    "from scipy.sparse.linalg import svds\n",
    "from sklearn.utils.extmath import randomized_svd\n",
    "import matplotlib.pyplot as plt\n",
    "import time\n",
    "import sympy as sp\n",
    "import pandas as pd\n",
    "import scipy as scp\n",
    "%matplotlib inline"
   ]
  },
  {
   "cell_type": "markdown",
   "metadata": {},
   "source": [
    "Task 1"
   ]
  },
  {
   "cell_type": "code",
   "execution_count": 235,
   "metadata": {},
   "outputs": [
    {
     "name": "stdout",
     "output_type": "stream",
     "text": [
      "SVD: 2.94 s\n",
      "SVDs: 0.72 s\n",
      "SVDr: 0.12 s\n"
     ]
    },
    {
     "data": {
      "text/plain": [
       "(1995.426450318365, 1995.426450318365, 1995.6495839183974)"
      ]
     },
     "execution_count": 235,
     "metadata": {},
     "output_type": "execute_result"
    }
   ],
   "source": [
    "n = 2000\n",
    "A = np.random.normal(0, 1, (n, n))\n",
    "\n",
    "start = time.time()\n",
    "U_svd, S_svd, V_svd = np.linalg.svd(A)\n",
    "end = time.time()\n",
    "print(f'SVD: {np.round(end - start, 2)} s')\n",
    "\n",
    "start = time.time()\n",
    "U_svds, S_svds, V_svds = svds(A, k=2)\n",
    "end = time.time()\n",
    "print(f'SVDs: {np.round(end - start, 2)} s')\n",
    "\n",
    "start = time.time()\n",
    "U_svdr, S_svdr, V_svdr = randomized_svd(A, 2)\n",
    "end = time.time()\n",
    "print(f'SVDr: {np.round(end - start, 2)} s')\n",
    "\n",
    "A_svd_k = U_svd[..., :2] @ np.diag(S_svd)[:2, :2] @ V_svd[:2, ...]\n",
    "A_svds_k = U_svds @ np.diag(S_svds) @ V_svds\n",
    "A_svdr_k = U_svdr @ np.diag(S_svdr) @ V_svdr\n",
    "\n",
    "error_svd = np.linalg.norm(A-A_svd_k)\n",
    "error_svds = np.linalg.norm(A-A_svds_k)\n",
    "error_svdr = np.linalg.norm(A-A_svdr_k)\n",
    "\n",
    "error_svd, error_svds, error_svdr"
   ]
  },
  {
   "cell_type": "markdown",
   "metadata": {},
   "source": [
    "Task 2. \\\n",
    "1.\n",
    "$$ \n",
    "\\begin{aligned}\n",
    "(A^TA)^{-1} = (U\\Sigma V^T)^T U\\Sigma V^T = V (\\Sigma^2)^{-1} V^T \\\\\n",
    "\\end{aligned}\n",
    "$$\n",
    "2.\n",
    "$$ \n",
    "\\begin{aligned}\n",
    "(A^TA)^{-1}A^T = V (\\Sigma^2)^{-1} V^T (U\\Sigma V^T)^T = V \\Sigma^{-1} U^T \\\\\n",
    "\\end{aligned}\n",
    "$$\n",
    "3.\n",
    "$$ \n",
    "\\begin{aligned}\n",
    "A(A^TA)^{-1} = U\\Sigma V^T V (\\Sigma^2)^{-1} V^T = U \\Sigma^{-1} V^T \\\\\n",
    "\\end{aligned}\n",
    "$$\n",
    "4.\n",
    "$$ \n",
    "\\begin{aligned}\n",
    "A(A^TA)^{-1}A^T = U \\Sigma^{-1} V^T (U\\Sigma V^T)^T = I\\\\\n",
    "\\end{aligned}\n",
    "$$"
   ]
  },
  {
   "cell_type": "code",
   "execution_count": null,
   "metadata": {},
   "outputs": [],
   "source": []
  },
  {
   "cell_type": "markdown",
   "metadata": {},
   "source": [
    "Task 3. \\\n",
    "1."
   ]
  },
  {
   "cell_type": "code",
   "execution_count": 2,
   "metadata": {},
   "outputs": [
    {
     "data": {
      "text/latex": [
       "$\\displaystyle \\left[\\begin{matrix}-2 & 11\\\\-10 & 5\\end{matrix}\\right]$"
      ],
      "text/plain": [
       "Matrix([\n",
       "[ -2, 11],\n",
       "[-10,  5]])"
      ]
     },
     "execution_count": 2,
     "metadata": {},
     "output_type": "execute_result"
    }
   ],
   "source": [
    "A = sp.Matrix([\n",
    "        [-2, 11],\n",
    "        [-10, 5]\n",
    "    ]) \n",
    "A"
   ]
  },
  {
   "cell_type": "code",
   "execution_count": 4,
   "metadata": {},
   "outputs": [
    {
     "data": {
      "text/latex": [
       "$\\displaystyle \\left[\\begin{matrix}125 & 75\\\\75 & 125\\end{matrix}\\right]$"
      ],
      "text/plain": [
       "Matrix([\n",
       "[125,  75],\n",
       "[ 75, 125]])"
      ]
     },
     "execution_count": 4,
     "metadata": {},
     "output_type": "execute_result"
    }
   ],
   "source": [
    "AAT = A @ A.T\n",
    "AAT"
   ]
  },
  {
   "cell_type": "code",
   "execution_count": 6,
   "metadata": {},
   "outputs": [
    {
     "data": {
      "text/latex": [
       "$\\displaystyle \\lambda$"
      ],
      "text/plain": [
       "\\lambda"
      ]
     },
     "execution_count": 6,
     "metadata": {},
     "output_type": "execute_result"
    }
   ],
   "source": [
    "l = sp.Symbol('\\lambda')"
   ]
  },
  {
   "cell_type": "code",
   "execution_count": 13,
   "metadata": {},
   "outputs": [
    {
     "data": {
      "text/latex": [
       "$\\displaystyle \\lambda^{2} - 250 \\lambda + 10000$"
      ],
      "text/plain": [
       "\\lambda**2 - 250*\\lambda + 10000"
      ]
     },
     "execution_count": 13,
     "metadata": {},
     "output_type": "execute_result"
    }
   ],
   "source": [
    "(AAT-l*sp.Matrix([[1,0],[0,1]])).det()"
   ]
  },
  {
   "cell_type": "markdown",
   "metadata": {},
   "source": [
    "$$ \\lambda_1 = 200 $$\n",
    "$$ \\lambda_2 = 50 $$"
   ]
  },
  {
   "cell_type": "code",
   "execution_count": 19,
   "metadata": {},
   "outputs": [
    {
     "data": {
      "text/latex": [
       "$\\displaystyle \\left[\\begin{matrix}10 \\sqrt{2} & 0\\\\0 & 5 \\sqrt{2}\\end{matrix}\\right]$"
      ],
      "text/plain": [
       "Matrix([\n",
       "[10*sqrt(2),         0],\n",
       "[         0, 5*sqrt(2)]])"
      ]
     },
     "execution_count": 19,
     "metadata": {},
     "output_type": "execute_result"
    }
   ],
   "source": [
    "S = sp.Matrix([[10*sp.sqrt(2), 0],[0,5*sp.sqrt(2)]])\n",
    "S"
   ]
  },
  {
   "cell_type": "code",
   "execution_count": 48,
   "metadata": {},
   "outputs": [
    {
     "data": {
      "text/plain": [
       "array([[ 0.70710678, -0.70710678],\n",
       "       [ 0.70710678,  0.70710678]])"
      ]
     },
     "execution_count": 48,
     "metadata": {},
     "output_type": "execute_result"
    }
   ],
   "source": [
    "AAT_np = np.array(AAT).astype(np.float64)\n",
    "Ueval, Uevec = np.linalg.eig(AAT_np)\n",
    "U = Uevec\n",
    "U"
   ]
  },
  {
   "cell_type": "code",
   "execution_count": 69,
   "metadata": {},
   "outputs": [
    {
     "data": {
      "text/plain": [
       "array([[-0.8, -0.6],\n",
       "       [ 0.6, -0.8]])"
      ]
     },
     "execution_count": 69,
     "metadata": {},
     "output_type": "execute_result"
    }
   ],
   "source": [
    "ATA_np = np.array(A.T @ A).astype(np.float64)\n",
    "Veval, Vevec = np.linalg.eig(ATA_np)\n",
    "V = Vevec\n",
    "V.T"
   ]
  },
  {
   "cell_type": "code",
   "execution_count": 30,
   "metadata": {},
   "outputs": [
    {
     "data": {
      "text/plain": [
       "array([[14.14213562,  0.        ],\n",
       "       [ 0.        ,  7.07106781]])"
      ]
     },
     "execution_count": 30,
     "metadata": {},
     "output_type": "execute_result"
    }
   ],
   "source": [
    "S_np = np.array(S).astype(np.float64)\n",
    "S_np"
   ]
  },
  {
   "cell_type": "code",
   "execution_count": 51,
   "metadata": {},
   "outputs": [
    {
     "data": {
      "text/plain": [
       "array([[-11.,  -2.],\n",
       "       [ -5., -10.]])"
      ]
     },
     "execution_count": 51,
     "metadata": {},
     "output_type": "execute_result"
    }
   ],
   "source": [
    "A_out = U @ S_np @ V.T\n",
    "np.array(A_out).astype(np.float64)"
   ]
  },
  {
   "cell_type": "markdown",
   "metadata": {},
   "source": [
    "2."
   ]
  },
  {
   "cell_type": "code",
   "execution_count": 231,
   "metadata": {},
   "outputs": [
    {
     "data": {
      "image/png": "[encoded data removed]",
      "text/plain": [
       "<Figure size 1500x300 with 4 Axes>"
      ]
     },
     "metadata": {},
     "output_type": "display_data"
    }
   ],
   "source": [
    "A = np.array([\n",
    "        [-2, 11],\n",
    "        [-10, 5]\n",
    "    ]) \n",
    "U, S, V = np.linalg.svd(A)\n",
    "V.T \n",
    "P = np.array([[1, 0], [0, 1]])\n",
    "\n",
    "Vt = P @ V.T\n",
    "\n",
    "S = np.diag(S) @ Vt\n",
    "U1 = U @ S\n",
    "origin = np.array([[0, 0], [0, 0]])\n",
    "fig, axis = plt.subplots(1,4)\n",
    "fig.set_size_inches(15,3)\n",
    "t = np.linspace(0, 2*np.pi, 100)\n",
    "for ax in axis:\n",
    "    ax.axis('equal')\n",
    "    ax.grid(color='lightgray',linestyle='--')\n",
    "    \n",
    "    \n",
    "axis[0].quiver(*origin, P[:, 0], P[:, 1], color=['r', 'b', 'green'], scale=4)\n",
    "axis[0].set(xlim=(-2, 2), ylim=(-2, 2))\n",
    "axis[0].set_xlabel('Preimage')\n",
    "axis[1].quiver(*origin, Vt[:, 0], Vt[:, 1], color=['r', 'b', 'green'], scale=4)\n",
    "axis[1].set(xlim=(-2, 2), ylim=(-2, 2))\n",
    "axis[1].set_xlabel('Vt')\n",
    "axis[2].quiver(*origin, S[:, 0], S[:, 1], color=['r', 'b', 'green'], scale=32)\n",
    "axis[2].set(xlim=(-16, 16), ylim=(-16, 16))\n",
    "axis[2].set_xlabel('S')\n",
    "axis[3].quiver(*origin, U1[:, 0], U1[:, 1], color=['r', 'b', 'green'], scale=32)\n",
    "axis[3].set(xlim=(-16, 16), ylim=(-16, 16))\n",
    "axis[3].set_xlabel('U')\n",
    "plt.show()"
   ]
  },
  {
   "cell_type": "markdown",
   "metadata": {},
   "source": [
    "3.\n",
    "$$ \\begin{aligned} ||A||_{F} =  \\sqrt{2^2+11^2+10^2+5^2} \\approx 15.81 \\end{aligned} $$\n",
    "\n",
    "$$ \\begin{aligned} ||A||_{2}  = 10\\sqrt{2} \\\\ \\end{aligned} $$\n"
   ]
  },
  {
   "cell_type": "markdown",
   "metadata": {},
   "source": [
    "4."
   ]
  },
  {
   "cell_type": "code",
   "execution_count": 234,
   "metadata": {},
   "outputs": [
    {
     "data": {
      "text/plain": [
       "(array([[ 0.05, -0.11],\n",
       "        [ 0.1 , -0.02]]),\n",
       " array([[ 0.05, -0.11],\n",
       "        [ 0.1 , -0.02]]))"
      ]
     },
     "execution_count": 234,
     "metadata": {},
     "output_type": "execute_result"
    }
   ],
   "source": [
    "A = sp.Matrix([\n",
    "        [-2, 11],\n",
    "        [-10, 5]\n",
    "    ]) \n",
    "A_np = np.array(A).astype(np.float64)\n",
    "U, S, V = np.linalg.svd(A_np)\n",
    "A_inv = V @ np.linalg.inv(np.diag(S)) @ U.T\n",
    "A_inv1 = np.linalg.inv(A_np)\n",
    "A_inv, A_inv1"
   ]
  },
  {
   "cell_type": "markdown",
   "metadata": {},
   "source": [
    "5.\n",
    "$$ \\begin{aligned} \\lambda_{1} = -2, \\lambda_{2} = 5 \\end{aligned} $$"
   ]
  },
  {
   "cell_type": "code",
   "execution_count": 24,
   "metadata": {},
   "outputs": [],
   "source": [
    "A_hdf = 'A.hdf'\n",
    "pd.HDFStore(A_hdf).keys()\n",
    "A = pd.read_hdf(A_hdf, 'A', 'r+')\n"
   ]
  },
  {
   "cell_type": "code",
   "execution_count": 12,
   "metadata": {},
   "outputs": [
    {
     "data": {
      "text/plain": [
       "<Figure size 800x450 with 0 Axes>"
      ]
     },
     "metadata": {},
     "output_type": "display_data"
    },
    {
     "data": {
      "image/png": "[encoded data removed]",
      "text/plain": [
       "<Figure size 640x480 with 1 Axes>"
      ]
     },
     "metadata": {},
     "output_type": "display_data"
    }
   ],
   "source": [
    "hdfName = 'digits.hdf'\n",
    "pd.HDFStore(hdfName).keys()\n",
    "\n",
    "images = pd.read_hdf(hdfName, 'images', 'r+')\n",
    "\n",
    "i_0 = images.loc[0].to_numpy()\n",
    "row, col = i_0.shape\n",
    "U, S, V = np.linalg.svd(i_0)\n",
    "S_2 = np.diag(S[:2])\n",
    "U_2 = U[..., :2]\n",
    "V_2 = V[:2, ...]\n",
    "A_2 =  U_2 @ S_2\n",
    "np.linalg.matrix_rank(A_2)\n",
    "plt.figure(figsize=(8, 4.5))\n",
    "\n",
    "fig, ax = plt.subplots()\n",
    "for i, color in zip(range(9), ['1', '2', '3', '4', '5', '6', '7', '8', '9']):\n",
    "    U, S, V = np.linalg.svd(images.loc[i].to_numpy())\n",
    "    S_2 = np.diag(S[:2])\n",
    "    U_2 = U[..., :2]\n",
    "    V_2 = V[:2, ...]\n",
    "    A_2 =  U_2 @ S_2\n",
    "    ax.scatter(A_2[..., 0], A_2[..., 1], label=color)\n",
    "ax.legend(loc='upper right')\n",
    "plt.show() "
   ]
  },
  {
   "cell_type": "code",
   "execution_count": null,
   "metadata": {},
   "outputs": [],
   "source": []
  }
 ],
 "metadata": {
  "kernelspec": {
   "display_name": "Python 3 (ipykernel)",
   "language": "python",
   "name": "python3"
  },
  "language_info": {
   "codemirror_mode": {
    "name": "ipython",
    "version": 3
   },
   "file_extension": ".py",
   "mimetype": "text/x-python",
   "name": "python",
   "nbconvert_exporter": "python",
   "pygments_lexer": "ipython3",
   "version": "3.10.12"
  }
 },
 "nbformat": 4,
 "nbformat_minor": 4
}
