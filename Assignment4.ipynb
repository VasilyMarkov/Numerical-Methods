{
 "cells": [
  {
   "cell_type": "markdown",
   "metadata": {},
   "source": [
    "# Assignment 4\n"
   ]
  },
  {
   "cell_type": "code",
   "execution_count": 19,
   "metadata": {},
   "outputs": [],
   "source": [
    "import numpy as np\n",
    "import sympy as sp\n",
    "import pandas as pd\n",
    "import matplotlib.pyplot as plt\n",
    "%matplotlib inline"
   ]
  },
  {
   "cell_type": "markdown",
   "metadata": {},
   "source": [
    "Task 1"
   ]
  },
  {
   "cell_type": "markdown",
   "metadata": {},
   "source": [
    "Task 2"
   ]
  },
  {
   "cell_type": "code",
   "execution_count": 82,
   "metadata": {},
   "outputs": [
    {
     "data": {
      "text/plain": [
       "3.183098861837906715377675267450287240689192914809128974953346881e+99"
      ]
     },
     "execution_count": 82,
     "metadata": {},
     "output_type": "execute_result"
    }
   ],
   "source": [
    "from mpmath import *\n",
    "mp . dps = 64 # precision ( in decimal places )\n",
    "mp . pretty = True\n",
    "+(10**100)/pi"
   ]
  },
  {
   "cell_type": "code",
   "execution_count": 73,
   "metadata": {},
   "outputs": [
    {
     "data": {
      "text/latex": [
       "$\\displaystyle \\frac{x \\left(\\tan^{2}{\\left(x \\right)} + 1\\right)}{\\tan{\\left(x \\right)}}$"
      ],
      "text/plain": [
       "x*(tan(x)**2 + 1)/tan(x)"
      ]
     },
     "execution_count": 73,
     "metadata": {},
     "output_type": "execute_result"
    }
   ],
   "source": [
    "x = sp.Symbol('x')\n",
    "f = sp.tan(x)\n",
    "j = sp.diff(f, x)\n",
    "k = j/(f/x)\n",
    "\n",
    "cn"
   ]
  },
  {
   "cell_type": "markdown",
   "metadata": {},
   "source": [
    "Task 3"
   ]
  },
  {
   "cell_type": "code",
   "execution_count": 83,
   "metadata": {},
   "outputs": [],
   "source": [
    "tests = [\n",
    "    { 'b': 4.0,   'c': 3.0 },\n",
    "    { 'b': 2.0,   'c': 1.0 },\n",
    "    { 'b': 0.5,   'c': 4.0 },\n",
    "    { 'b': 1e10,  'c': 3.0 },\n",
    "    { 'b': -1e10, 'c': 4.0 },\n",
    "]"
   ]
  },
  {
   "cell_type": "code",
   "execution_count": 84,
   "metadata": {},
   "outputs": [],
   "source": [
    "def do_tests(solver):\n",
    "    def quad(b, c, x):\n",
    "        return x ** 2 + b * x + c\n",
    "\n",
    "    solutions = [ ( test, solver(test['b'], test['c']) ) for test in tests ]\n",
    "    return [ ( test, solution, [ quad(test['b'], test['c'], solution[0]), quad(test['b'], test['c'], solution[1]) ] ) for test, solution in solutions ]"
   ]
  },
  {
   "cell_type": "code",
   "execution_count": 176,
   "metadata": {},
   "outputs": [],
   "source": [
    "def solve_quad(b, c):\n",
    "    if b > 0:\n",
    "        x1 = 2*c/(-b - np.sqrt(b ** 2 - 4 * c + 0J))\n",
    "    elif b < 0:\n",
    "        x1 = 2*c/(-b + np.sqrt(b ** 2 - 4 * c + 0J))\n",
    "    x2 = c/x1    \n",
    "    return np.array([x1, x2])\n",
    "    \n",
    "def solve_quad_n(b, c):\n",
    "    rootD = np.sqrt(b ** 2 - 4 * c + 0J)\n",
    "    x = np.array([ -b, -b ]) + np.array([ 1, -1 ]) * rootD\n",
    "    return x / 2"
   ]
  },
  {
   "cell_type": "code",
   "execution_count": 195,
   "metadata": {},
   "outputs": [
    {
     "data": {
      "text/plain": [
       "[({'b': 4.0, 'c': 3.0}, array([-1.-0.j, -3.-0.j]), [0j, 0j]),\n",
       " ({'b': 2.0, 'c': 1.0}, array([-1.-0.j, -1.-0.j]), [0j, 0j]),\n",
       " ({'b': 0.5, 'c': 4.0},\n",
       "  array([-0.25+1.98431348j, -0.25-1.98431348j]),\n",
       "  [(4.440892098500626e-16+2.220446049250313e-16j),\n",
       "   (-1.7763568394002505e-15+0j)]),\n",
       " ({'b': 10000000000.0, 'c': 3.0},\n",
       "  array([-3.e-10-0.j, -1.e+10-0.j]),\n",
       "  [0j, (3+0j)]),\n",
       " ({'b': -10000000000.0, 'c': 4.0},\n",
       "  array([4.e-10+0.j, 1.e+10+0.j]),\n",
       "  [0j, (4+0j)])]"
      ]
     },
     "execution_count": 195,
     "metadata": {},
     "output_type": "execute_result"
    }
   ],
   "source": [
    "do_tests(solve_quad)"
   ]
  },
  {
   "cell_type": "code",
   "execution_count": 191,
   "metadata": {},
   "outputs": [
    {
     "data": {
      "text/plain": [
       "0j"
      ]
     },
     "execution_count": 191,
     "metadata": {},
     "output_type": "execute_result"
    }
   ],
   "source": [
    "solve = solve_quad(tests[3]['b'], tests[3]['c'])\n",
    "solve[0] ** 2 + 1e10 * solve[0] + 3"
   ]
  },
  {
   "cell_type": "code",
   "execution_count": 192,
   "metadata": {},
   "outputs": [
    {
     "data": {
      "text/plain": [
       "(3+0j)"
      ]
     },
     "execution_count": 192,
     "metadata": {},
     "output_type": "execute_result"
    }
   ],
   "source": [
    "solve[1] ** 2 + 1e10 * solve[1] + 3"
   ]
  },
  {
   "cell_type": "code",
   "execution_count": 193,
   "metadata": {},
   "outputs": [
    {
     "data": {
      "text/plain": [
       "0j"
      ]
     },
     "execution_count": 193,
     "metadata": {},
     "output_type": "execute_result"
    }
   ],
   "source": [
    "solve = solve_quad_n(tests[4]['b'], tests[4]['c'])\n",
    "solve[0] ** 2 -1e10*solve[0] + 4"
   ]
  },
  {
   "cell_type": "code",
   "execution_count": 194,
   "metadata": {},
   "outputs": [
    {
     "data": {
      "text/plain": [
       "(4+0j)"
      ]
     },
     "execution_count": 194,
     "metadata": {},
     "output_type": "execute_result"
    }
   ],
   "source": [
    "solve[1] ** 2 - 1e10*solve[1] + 4"
   ]
  },
  {
   "cell_type": "markdown",
   "metadata": {},
   "source": [
    "Task 6"
   ]
  },
  {
   "cell_type": "code",
   "execution_count": 263,
   "metadata": {},
   "outputs": [
    {
     "data": {
      "text/latex": [
       "$\\displaystyle \\left[\\begin{matrix}2\\\\\\epsilon\\\\\\epsilon + 4\\end{matrix}\\right]$"
      ],
      "text/plain": [
       "Matrix([\n",
       "[           2],\n",
       "[    \\epsilon],\n",
       "[\\epsilon + 4]])"
      ]
     },
     "execution_count": 263,
     "metadata": {},
     "output_type": "execute_result"
    }
   ],
   "source": [
    "eps = sp.Symbol('\\\\epsilon')\n",
    "A = sp.Matrix([[1, 1],\n",
    "               [1, 1+eps], \n",
    "               [1, 1+eps]])\n",
    "b = sp.Matrix([2,eps,4+eps])\n",
    "b"
   ]
  },
  {
   "cell_type": "code",
   "execution_count": 266,
   "metadata": {},
   "outputs": [
    {
     "data": {
      "text/latex": [
       "$\\displaystyle \\left[\\begin{matrix}\\epsilon \\left(1 + \\frac{2}{\\epsilon} + \\frac{\\left(- 2 \\epsilon - 3\\right) \\left(\\epsilon + 1\\right)}{2 \\epsilon^{2}} + \\frac{3}{2 \\epsilon^{2}}\\right) + \\left(\\epsilon + 4\\right) \\left(1 + \\frac{2}{\\epsilon} + \\frac{\\left(- 2 \\epsilon - 3\\right) \\left(\\epsilon + 1\\right)}{2 \\epsilon^{2}} + \\frac{3}{2 \\epsilon^{2}}\\right) + 2 + \\frac{4}{\\epsilon} + \\frac{- 2 \\epsilon - 3}{\\epsilon^{2}} + \\frac{3}{\\epsilon^{2}}\\\\\\epsilon \\left(\\frac{- 2 \\epsilon - 3}{2 \\epsilon^{2}} + \\frac{3 \\left(\\epsilon + 1\\right)}{2 \\epsilon^{2}}\\right) + \\left(\\epsilon + 4\\right) \\left(\\frac{- 2 \\epsilon - 3}{2 \\epsilon^{2}} + \\frac{3 \\left(\\epsilon + 1\\right)}{2 \\epsilon^{2}}\\right) + \\frac{- 2 \\epsilon - 3}{\\epsilon^{2}} + \\frac{3}{\\epsilon^{2}}\\end{matrix}\\right]$"
      ],
      "text/plain": [
       "Matrix([\n",
       "[\\epsilon*(1 + 2/\\epsilon + (-2*\\epsilon - 3)*(\\epsilon + 1)/(2*\\epsilon**2) + 3/(2*\\epsilon**2)) + (\\epsilon + 4)*(1 + 2/\\epsilon + (-2*\\epsilon - 3)*(\\epsilon + 1)/(2*\\epsilon**2) + 3/(2*\\epsilon**2)) + 2 + 4/\\epsilon + (-2*\\epsilon - 3)/\\epsilon**2 + 3/\\epsilon**2],\n",
       "[                                                   \\epsilon*((-2*\\epsilon - 3)/(2*\\epsilon**2) + 3*(\\epsilon + 1)/(2*\\epsilon**2)) + (\\epsilon + 4)*((-2*\\epsilon - 3)/(2*\\epsilon**2) + 3*(\\epsilon + 1)/(2*\\epsilon**2)) + (-2*\\epsilon - 3)/\\epsilon**2 + 3/\\epsilon**2]])"
      ]
     },
     "execution_count": 266,
     "metadata": {},
     "output_type": "execute_result"
    }
   ],
   "source": [
    "x = (A.T @ A).inv() @ A.T @ b\n",
    "x"
   ]
  },
  {
   "cell_type": "code",
   "execution_count": 267,
   "metadata": {},
   "outputs": [
    {
     "data": {
      "text/latex": [
       "$\\displaystyle \\left[\\begin{matrix}1\\\\1\\end{matrix}\\right]$"
      ],
      "text/plain": [
       "Matrix([\n",
       "[1],\n",
       "[1]])"
      ]
     },
     "execution_count": 267,
     "metadata": {},
     "output_type": "execute_result"
    }
   ],
   "source": [
    "x = sp.simplify(x)\n",
    "y = A @ x \n",
    "x"
   ]
  },
  {
   "cell_type": "code",
   "execution_count": 272,
   "metadata": {},
   "outputs": [],
   "source": [
    "def ls_solver(dtype):  \n",
    "    eps = 0.00001\n",
    "    A = np.array(\n",
    "        [ [ 1, 1 ],\n",
    "          [ 1, 1 + eps ],\n",
    "          [ 1, 1 + eps ]\n",
    "        ]\n",
    "        , dtype = dtype\n",
    "    )\n",
    "    b = np.array([ [ 2 ], [ eps ], [ 4 + eps ] ], dtype=dtype)\n",
    "    x = np.linalg.inv((A.T @ A)) @ A.T @ b\n",
    "    y = A @ x\n",
    "    s = np.linalg.svd(A, compute_uv = False)\n",
    "    print(f'condition_number = {np.max(s)/np.min(s)}')"
   ]
  },
  {
   "cell_type": "code",
   "execution_count": 248,
   "metadata": {},
   "outputs": [
    {
     "name": "stdout",
     "output_type": "stream",
     "text": [
      "condition_number = 423691.5\n"
     ]
    }
   ],
   "source": [
    "ls_solver(np.float32)"
   ]
  },
  {
   "cell_type": "code",
   "execution_count": 249,
   "metadata": {},
   "outputs": [
    {
     "name": "stdout",
     "output_type": "stream",
     "text": [
      "condition_number = 424266.89714833436\n"
     ]
    }
   ],
   "source": [
    "ls_solver(np.float64)"
   ]
  },
  {
   "cell_type": "code",
   "execution_count": 282,
   "metadata": {},
   "outputs": [],
   "source": [
    "def ls_svd_solver(dtype):\n",
    "    eps = 0.00001\n",
    "    A = np.array(\n",
    "        [ [ 1, 1 ],\n",
    "          [ 1, 1 + eps ],\n",
    "          [ 1, 1 + eps ]\n",
    "        ]\n",
    "        , dtype = dtype\n",
    "    )\n",
    "    b = np.array([ [ 2 ], [ eps ], [ 4 + eps ] ], dtype=dtype)\n",
    "    x = np.linalg.pinv(A) @ b\n",
    "    x\n",
    "    # y = A @ x\n",
    "    # s = np.linalg.svd(A, compute_uv = False)\n",
    "    # print(f'condition_number = {np.max(s)/np.min(s)}')"
   ]
  },
  {
   "cell_type": "code",
   "execution_count": 284,
   "metadata": {},
   "outputs": [],
   "source": [
    "ls_svd_solver(np.float32)"
   ]
  },
  {
   "cell_type": "code",
   "execution_count": null,
   "metadata": {},
   "outputs": [],
   "source": []
  }
 ],
 "metadata": {
  "kernelspec": {
   "display_name": "Python 3 (ipykernel)",
   "language": "python",
   "name": "python3"
  },
  "language_info": {
   "codemirror_mode": {
    "name": "ipython",
    "version": 3
   },
   "file_extension": ".py",
   "mimetype": "text/x-python",
   "name": "python",
   "nbconvert_exporter": "python",
   "pygments_lexer": "ipython3",
   "version": "3.10.12"
  }
 },
 "nbformat": 4,
 "nbformat_minor": 4
}
