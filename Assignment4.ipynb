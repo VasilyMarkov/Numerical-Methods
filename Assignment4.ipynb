{
 "cells": [
  {
   "cell_type": "markdown",
   "metadata": {},
   "source": [
    "# Assignment 4\n"
   ]
  },
  {
   "cell_type": "code",
   "execution_count": 4,
   "metadata": {},
   "outputs": [],
   "source": [
    "import numpy as np\n",
    "import sympy as sp"
   ]
  },
  {
   "cell_type": "markdown",
   "metadata": {},
   "source": [
    "Task 1"
   ]
  },
  {
   "cell_type": "markdown",
   "metadata": {},
   "source": [
    "$$ \\sqrt{x+a}-\\sqrt{x} = (\\sqrt{x+a}-\\sqrt{x}) \\frac{\\sqrt{x+a}+\\sqrt{x}}{\\sqrt{x+a}+\\sqrt{x}} = \\frac{a}{\\sqrt{x+a}+\\sqrt{x}} $$"
   ]
  },
  {
   "cell_type": "code",
   "execution_count": 20,
   "metadata": {},
   "outputs": [
    {
     "name": "stdout",
     "output_type": "stream",
     "text": [
      "31622775.60168381 31622775.601683807\n",
      "1.862645149230957e-08 1.5811388300841893e-08\n",
      "0.9999999999 0.9999999999\n",
      "0.0 5e-21\n"
     ]
    }
   ],
   "source": [
    "\n",
    "args = [[1, 1e15], [1e15, 1], [1e-20, 1], [1, 1e-20]]\n",
    "\n",
    "def f1(x, a):\n",
    "    return np.sqrt(x+a)-np.sqrt(x)\n",
    "\n",
    "def f2(x, a):\n",
    "    return a/(np.sqrt(x+a)+np.sqrt(x))\n",
    "\n",
    "def test(func, x, a):\n",
    "    return func(x, a)\n",
    "    \n",
    "print(test(f1, *args[0]), test(f2, *args[0]))    \n",
    "print(test(f1, *args[1]), test(f2, *args[1]))\n",
    "print(test(f1, *args[2]), test(f2, *args[2]))    \n",
    "print(test(f1, *args[3]), test(f2, *args[3]))"
   ]
  },
  {
   "cell_type": "code",
   "execution_count": 20,
   "metadata": {},
   "outputs": [
    {
     "data": {
      "text/latex": [
       "$\\displaystyle \\frac{1}{2 \\sqrt{a + x}}$"
      ],
      "text/plain": [
       "1/(2*sqrt(a + x))"
      ]
     },
     "execution_count": 20,
     "metadata": {},
     "output_type": "execute_result"
    }
   ],
   "source": [
    "x = sp.Symbol('x')\n",
    "a = sp.Symbol('a')\n",
    "e = sp.sqrt(x+a)-sp.sqrt(x)\n",
    "e_dx = sp.diff(e, x)\n",
    "e_da = sp.diff(e, a)\n",
    "e_da"
   ]
  },
  {
   "cell_type": "markdown",
   "metadata": {},
   "source": [
    "Task 2"
   ]
  },
  {
   "cell_type": "code",
   "execution_count": 287,
   "metadata": {},
   "outputs": [
    {
     "data": {
      "text/plain": [
       "3.183098861837906715377675267450287240689192914809128974953346881e+99"
      ]
     },
     "execution_count": 287,
     "metadata": {},
     "output_type": "execute_result"
    }
   ],
   "source": [
    "from mpmath import *\n",
    "mp . dps = 64 # precision ( in decimal places )\n",
    "mp . pretty = True\n",
    "+(10**100)/pi"
   ]
  },
  {
   "cell_type": "code",
   "execution_count": 288,
   "metadata": {},
   "outputs": [
    {
     "data": {
      "text/latex": [
       "$\\displaystyle \\frac{10 \\left(\\tan^{2}{\\left(10 \\right)} + 1\\right)}{\\tan{\\left(10 \\right)}}$"
      ],
      "text/plain": [
       "10*(tan(10)**2 + 1)/tan(10)"
      ]
     },
     "execution_count": 288,
     "metadata": {},
     "output_type": "execute_result"
    }
   ],
   "source": [
    "x = sp.Symbol('x')\n",
    "f = sp.tan(x)\n",
    "j = sp.diff(f, x)\n",
    "k = j/(f/x)\n",
    "\n",
    "cn"
   ]
  },
  {
   "cell_type": "markdown",
   "metadata": {},
   "source": [
    "Task 3"
   ]
  },
  {
   "cell_type": "code",
   "execution_count": 289,
   "metadata": {},
   "outputs": [],
   "source": [
    "tests = [\n",
    "    { 'b': 4.0,   'c': 3.0 },\n",
    "    { 'b': 2.0,   'c': 1.0 },\n",
    "    { 'b': 0.5,   'c': 4.0 },\n",
    "    { 'b': 1e10,  'c': 3.0 },\n",
    "    { 'b': -1e10, 'c': 4.0 },\n",
    "]"
   ]
  },
  {
   "cell_type": "code",
   "execution_count": 290,
   "metadata": {},
   "outputs": [],
   "source": [
    "def do_tests(solver):\n",
    "    def quad(b, c, x):\n",
    "        return x ** 2 + b * x + c\n",
    "\n",
    "    solutions = [ ( test, solver(test['b'], test['c']) ) for test in tests ]\n",
    "    return [ ( test, solution, [ quad(test['b'], test['c'], solution[0]), quad(test['b'], test['c'], solution[1]) ] ) for test, solution in solutions ]"
   ]
  },
  {
   "cell_type": "code",
   "execution_count": 291,
   "metadata": {},
   "outputs": [],
   "source": [
    "def solve_quad(b, c):\n",
    "    if b > 0:\n",
    "        x1 = 2*c/(-b - np.sqrt(b ** 2 - 4 * c + 0J))\n",
    "    elif b < 0:\n",
    "        x1 = 2*c/(-b + np.sqrt(b ** 2 - 4 * c + 0J))\n",
    "    x2 = c/x1    \n",
    "    return np.array([x1, x2])\n",
    "    \n",
    "def solve_quad_n(b, c):\n",
    "    rootD = np.sqrt(b ** 2 - 4 * c + 0J)\n",
    "    x = np.array([ -b, -b ]) + np.array([ 1, -1 ]) * rootD\n",
    "    return x / 2"
   ]
  },
  {
   "cell_type": "code",
   "execution_count": 292,
   "metadata": {},
   "outputs": [
    {
     "data": {
      "text/plain": [
       "[({'b': 4.0, 'c': 3.0}, array([-1.-0.j, -3.-0.j]), [0j, 0j]),\n",
       " ({'b': 2.0, 'c': 1.0}, array([-1.-0.j, -1.-0.j]), [0j, 0j]),\n",
       " ({'b': 0.5, 'c': 4.0},\n",
       "  array([-0.25+1.98431348j, -0.25-1.98431348j]),\n",
       "  [(4.440892098500626e-16+2.220446049250313e-16j),\n",
       "   (-1.7763568394002505e-15+0j)]),\n",
       " ({'b': 10000000000.0, 'c': 3.0},\n",
       "  array([-3.e-10-0.j, -1.e+10-0.j]),\n",
       "  [0j, (3+0j)]),\n",
       " ({'b': -10000000000.0, 'c': 4.0},\n",
       "  array([4.e-10+0.j, 1.e+10+0.j]),\n",
       "  [0j, (4+0j)])]"
      ]
     },
     "execution_count": 292,
     "metadata": {},
     "output_type": "execute_result"
    }
   ],
   "source": [
    "do_tests(solve_quad)"
   ]
  },
  {
   "cell_type": "code",
   "execution_count": 293,
   "metadata": {},
   "outputs": [
    {
     "data": {
      "text/plain": [
       "0j"
      ]
     },
     "execution_count": 293,
     "metadata": {},
     "output_type": "execute_result"
    }
   ],
   "source": [
    "solve = solve_quad(tests[3]['b'], tests[3]['c'])\n",
    "solve[0] ** 2 + 1e10 * solve[0] + 3"
   ]
  },
  {
   "cell_type": "code",
   "execution_count": 294,
   "metadata": {},
   "outputs": [
    {
     "data": {
      "text/plain": [
       "(3+0j)"
      ]
     },
     "execution_count": 294,
     "metadata": {},
     "output_type": "execute_result"
    }
   ],
   "source": [
    "solve[1] ** 2 + 1e10 * solve[1] + 3"
   ]
  },
  {
   "cell_type": "code",
   "execution_count": 295,
   "metadata": {},
   "outputs": [
    {
     "data": {
      "text/plain": [
       "(4+0j)"
      ]
     },
     "execution_count": 295,
     "metadata": {},
     "output_type": "execute_result"
    }
   ],
   "source": [
    "solve = solve_quad_n(tests[4]['b'], tests[4]['c'])\n",
    "solve[0] ** 2 -1e10*solve[0] + 4"
   ]
  },
  {
   "cell_type": "code",
   "execution_count": 296,
   "metadata": {},
   "outputs": [
    {
     "data": {
      "text/plain": [
       "(4+0j)"
      ]
     },
     "execution_count": 296,
     "metadata": {},
     "output_type": "execute_result"
    }
   ],
   "source": [
    "solve[1] ** 2 - 1e10*solve[1] + 4"
   ]
  },
  {
   "cell_type": "markdown",
   "metadata": {},
   "source": [
    "Task 4"
   ]
  },
  {
   "cell_type": "code",
   "execution_count": 196,
   "metadata": {},
   "outputs": [
    {
     "data": {
      "text/latex": [
       "$\\displaystyle 0.00210443139076233$"
      ],
      "text/plain": [
       "0.00210443139076233"
      ]
     },
     "execution_count": 196,
     "metadata": {},
     "output_type": "execute_result"
    },
    {
     "data": {
      "image/png": "[encoded data removed]",
      "text/plain": [
       "<Figure size 640x480 with 1 Axes>"
      ]
     },
     "metadata": {},
     "output_type": "display_data"
    }
   ],
   "source": [
    "import matplotlib.pyplot as plt\n",
    "import math\n",
    "%matplotlib inline\n",
    "\n",
    "x = sp.Symbol('x')\n",
    "W = 1\n",
    "for i in range(1, 21):\n",
    "    W = W * (x-i)\n",
    "\n",
    "P,d = sp.poly_from_expr(W.expand())\n",
    "\n",
    "def pertub_poly(coeffs):\n",
    "    return np.array([a*np.random.normal(1, 1e-10) for a in coeffs])\n",
    "    \n",
    "roots = np.roots(np.array(P.coeffs()))\n",
    "\n",
    "pertub_polynomials = np.array([pertub_poly(coeffs) for i in range(100)])\n",
    "\n",
    "pertub_roots = np.array([np.roots(pertub_polynomials[i]) for i in range(100)])\n",
    "\n",
    "fig, axis = plt.subplots()\n",
    "\n",
    "for i in range(100):\n",
    "    axis.plot(pertub_roots[i].real, pertub_roots[i].imag, '.')\n",
    "    \n",
    "axis.scatter(roots.real, roots.imag, s=60)\n",
    "\n",
    "delta = pertub_roots[34]-roots\n",
    "index_sensitive_root = np.argmax(abs(delta))\n",
    "sensitive_root = pertub_roots[34][ind_most_sensitive_root]\n",
    " \n",
    "\n",
    "abs(pertub_polynomials[34][index_sensitive_root]-P.coeffs()[index_sensitive_root])"
   ]
  },
  {
   "cell_type": "markdown",
   "metadata": {},
   "source": [
    "Task 6"
   ]
  },
  {
   "cell_type": "code",
   "execution_count": 297,
   "metadata": {},
   "outputs": [
    {
     "data": {
      "text/latex": [
       "$\\displaystyle \\left[\\begin{matrix}2\\\\\\epsilon\\\\\\epsilon + 4\\end{matrix}\\right]$"
      ],
      "text/plain": [
       "Matrix([\n",
       "[           2],\n",
       "[    \\epsilon],\n",
       "[\\epsilon + 4]])"
      ]
     },
     "execution_count": 297,
     "metadata": {},
     "output_type": "execute_result"
    }
   ],
   "source": [
    "eps = sp.Symbol('\\\\epsilon')\n",
    "A = sp.Matrix([[1, 1],\n",
    "               [1, 1+eps], \n",
    "               [1, 1+eps]])\n",
    "b = sp.Matrix([2,eps,4+eps])\n",
    "b"
   ]
  },
  {
   "cell_type": "code",
   "execution_count": 298,
   "metadata": {},
   "outputs": [
    {
     "data": {
      "text/latex": [
       "$\\displaystyle \\left[\\begin{matrix}\\epsilon \\left(1 + \\frac{2}{\\epsilon} + \\frac{\\left(- 2 \\epsilon - 3\\right) \\left(\\epsilon + 1\\right)}{2 \\epsilon^{2}} + \\frac{3}{2 \\epsilon^{2}}\\right) + \\left(\\epsilon + 4\\right) \\left(1 + \\frac{2}{\\epsilon} + \\frac{\\left(- 2 \\epsilon - 3\\right) \\left(\\epsilon + 1\\right)}{2 \\epsilon^{2}} + \\frac{3}{2 \\epsilon^{2}}\\right) + 2 + \\frac{4}{\\epsilon} + \\frac{- 2 \\epsilon - 3}{\\epsilon^{2}} + \\frac{3}{\\epsilon^{2}}\\\\\\epsilon \\left(\\frac{- 2 \\epsilon - 3}{2 \\epsilon^{2}} + \\frac{3 \\left(\\epsilon + 1\\right)}{2 \\epsilon^{2}}\\right) + \\left(\\epsilon + 4\\right) \\left(\\frac{- 2 \\epsilon - 3}{2 \\epsilon^{2}} + \\frac{3 \\left(\\epsilon + 1\\right)}{2 \\epsilon^{2}}\\right) + \\frac{- 2 \\epsilon - 3}{\\epsilon^{2}} + \\frac{3}{\\epsilon^{2}}\\end{matrix}\\right]$"
      ],
      "text/plain": [
       "Matrix([\n",
       "[\\epsilon*(1 + 2/\\epsilon + (-2*\\epsilon - 3)*(\\epsilon + 1)/(2*\\epsilon**2) + 3/(2*\\epsilon**2)) + (\\epsilon + 4)*(1 + 2/\\epsilon + (-2*\\epsilon - 3)*(\\epsilon + 1)/(2*\\epsilon**2) + 3/(2*\\epsilon**2)) + 2 + 4/\\epsilon + (-2*\\epsilon - 3)/\\epsilon**2 + 3/\\epsilon**2],\n",
       "[                                                   \\epsilon*((-2*\\epsilon - 3)/(2*\\epsilon**2) + 3*(\\epsilon + 1)/(2*\\epsilon**2)) + (\\epsilon + 4)*((-2*\\epsilon - 3)/(2*\\epsilon**2) + 3*(\\epsilon + 1)/(2*\\epsilon**2)) + (-2*\\epsilon - 3)/\\epsilon**2 + 3/\\epsilon**2]])"
      ]
     },
     "execution_count": 298,
     "metadata": {},
     "output_type": "execute_result"
    }
   ],
   "source": [
    "x = (A.T @ A).inv() @ A.T @ b\n",
    "x"
   ]
  },
  {
   "cell_type": "code",
   "execution_count": 299,
   "metadata": {},
   "outputs": [
    {
     "data": {
      "text/latex": [
       "$\\displaystyle \\left[\\begin{matrix}1\\\\1\\end{matrix}\\right]$"
      ],
      "text/plain": [
       "Matrix([\n",
       "[1],\n",
       "[1]])"
      ]
     },
     "execution_count": 299,
     "metadata": {},
     "output_type": "execute_result"
    }
   ],
   "source": [
    "x = sp.simplify(x)\n",
    "y = A @ x \n",
    "x"
   ]
  },
  {
   "cell_type": "code",
   "execution_count": 300,
   "metadata": {},
   "outputs": [],
   "source": [
    "def ls_solver(dtype):  \n",
    "    eps = 0.00001\n",
    "    A = np.array(\n",
    "        [ [ 1, 1 ],\n",
    "          [ 1, 1 + eps ],\n",
    "          [ 1, 1 + eps ]\n",
    "        ]\n",
    "        , dtype = dtype\n",
    "    )\n",
    "    b = np.array([ [ 2 ], [ eps ], [ 4 + eps ] ], dtype=dtype)\n",
    "    x = np.linalg.inv((A.T @ A)) @ A.T @ b\n",
    "    y = A @ x\n",
    "    s = np.linalg.svd(A, compute_uv = False)\n",
    "    print(f'condition_number = {np.max(s)/np.min(s)}')"
   ]
  },
  {
   "cell_type": "code",
   "execution_count": 301,
   "metadata": {},
   "outputs": [
    {
     "name": "stdout",
     "output_type": "stream",
     "text": [
      "condition_number = 423691.5\n"
     ]
    }
   ],
   "source": [
    "ls_solver(np.float32)"
   ]
  },
  {
   "cell_type": "code",
   "execution_count": 302,
   "metadata": {},
   "outputs": [
    {
     "name": "stdout",
     "output_type": "stream",
     "text": [
      "condition_number = 424266.89714833436\n"
     ]
    }
   ],
   "source": [
    "ls_solver(np.float64)"
   ]
  },
  {
   "cell_type": "code",
   "execution_count": 312,
   "metadata": {},
   "outputs": [],
   "source": [
    "def ls_svd_solver(dtype):\n",
    "    eps = 0.00001\n",
    "    A = np.array(\n",
    "        [ [ 1, 1 ],\n",
    "          [ 1, 1 + eps ],\n",
    "          [ 1, 1 + eps ]\n",
    "        ]\n",
    "        , dtype = dtype\n",
    "    )\n",
    "    b = np.array([ [ 2 ], [ eps ], [ 4 + eps ] ], dtype=dtype)\n",
    "    x = np.linalg.pinv(A) @ b\n",
    "    y = A @ x\n",
    "    s = np.linalg.svd(A, compute_uv = False)\n",
    "    print(f'condition_number = {np.max(s)/np.min(s)}')\n",
    "    return (x, y)"
   ]
  },
  {
   "cell_type": "code",
   "execution_count": 313,
   "metadata": {},
   "outputs": [
    {
     "name": "stdout",
     "output_type": "stream",
     "text": [
      "condition_number = 423691.5\n"
     ]
    },
    {
     "data": {
      "text/plain": [
       "(array([[0.984375],\n",
       "        [1.015625]], dtype=float32),\n",
       " array([[2.     ],\n",
       "        [2.00001],\n",
       "        [2.00001]], dtype=float32))"
      ]
     },
     "execution_count": 313,
     "metadata": {},
     "output_type": "execute_result"
    }
   ],
   "source": [
    "ls_svd_solver(np.float32)"
   ]
  },
  {
   "cell_type": "markdown",
   "metadata": {},
   "source": [
    "Потеря точности на \\\\(1.5\\%\\\\) по сравнению с аналитическим решением."
   ]
  },
  {
   "cell_type": "code",
   "execution_count": 314,
   "metadata": {},
   "outputs": [
    {
     "name": "stdout",
     "output_type": "stream",
     "text": [
      "condition_number = 424266.89714833436\n"
     ]
    },
    {
     "data": {
      "text/plain": [
       "(array([[1.],\n",
       "        [1.]]),\n",
       " array([[2.     ],\n",
       "        [2.00001],\n",
       "        [2.00001]]))"
      ]
     },
     "execution_count": 314,
     "metadata": {},
     "output_type": "execute_result"
    }
   ],
   "source": [
    "ls_svd_solver(np.float64)"
   ]
  },
  {
   "cell_type": "markdown",
   "metadata": {},
   "source": [
    "Потери точности нет."
   ]
  },
  {
   "cell_type": "code",
   "execution_count": 342,
   "metadata": {},
   "outputs": [
    {
     "name": "stdout",
     "output_type": "stream",
     "text": [
      "[[1.0006781]\n",
      " [0.9993219]]\n",
      "[[2.     ]\n",
      " [2.00001]\n",
      " [2.00001]]\n"
     ]
    }
   ],
   "source": [
    "eps = 0.00001\n",
    "A = np.array(\n",
    "    [ [ 1, 1 ],\n",
    "      [ 1, 1 + eps ],\n",
    "      [ 1, 1 + eps ]\n",
    "    ]\n",
    "    , dtype = np.float32\n",
    ")\n",
    "b = np.array([ [ 2 ], [ eps ], [ 4 + eps ] ], dtype=np.float32)\n",
    "x = np.linalg.lstsq(A, b, rcond=None)\n",
    "y = A @ x[0]\n",
    "print(x[0])\n",
    "print(y)"
   ]
  },
  {
   "cell_type": "markdown",
   "metadata": {},
   "source": [
    "Потеря точности на \\\\(0.07\\%\\\\) о сравнению с аналитическим решением."
   ]
  },
  {
   "cell_type": "code",
   "execution_count": 362,
   "metadata": {},
   "outputs": [],
   "source": [
    "theta = sp.Symbol('\\\\theta')\n",
    "y = sp.Matrix(y)\n",
    "b = sp.Matrix(b)\n",
    "th = sp.acos(y.norm()/b.norm())"
   ]
  },
  {
   "cell_type": "markdown",
   "metadata": {},
   "source": [
    "Найдем все числа обусловленности:"
   ]
  },
  {
   "cell_type": "code",
   "execution_count": 369,
   "metadata": {},
   "outputs": [
    {
     "data": {
      "text/latex": [
       "$\\displaystyle 1.46046$"
      ],
      "text/plain": [
       "1.46046"
      ]
     },
     "execution_count": 369,
     "metadata": {},
     "output_type": "execute_result"
    }
   ],
   "source": [
    "y_b = 1/th  # y|b\n",
    "y_b"
   ]
  },
  {
   "cell_type": "code",
   "execution_count": 371,
   "metadata": {},
   "outputs": [
    {
     "data": {
      "text/latex": [
       "$\\displaystyle 618782.849627852$"
      ],
      "text/plain": [
       "618782.849627852"
      ]
     },
     "execution_count": 371,
     "metadata": {},
     "output_type": "execute_result"
    }
   ],
   "source": [
    "s = np.linalg.svd(A, compute_uv = False)\n",
    "k = np.max(s)/np.min(s)\n",
    "y_A= k/th  # y|A\n",
    "y_A"
   ]
  },
  {
   "cell_type": "code",
   "execution_count": 372,
   "metadata": {},
   "outputs": [],
   "source": [
    "x_b = k/th  # x|b"
   ]
  },
  {
   "cell_type": "markdown",
   "metadata": {},
   "source": [
    "Task 7"
   ]
  },
  {
   "cell_type": "code",
   "execution_count": 13,
   "metadata": {},
   "outputs": [
    {
     "data": {
      "text/plain": [
       "1.27422415280728"
      ]
     },
     "execution_count": 13,
     "metadata": {},
     "output_type": "execute_result"
    }
   ],
   "source": [
    "from scipy.sparse.linalg import svds\n",
    "\n",
    "k = 7000\n",
    "\n",
    "def make_matrix(n):\n",
    "    list = np.array([1/i for i in range(1, n*n+1)], dtype = np.float64)\n",
    "    A = np.zeros((n,n), dtype = np.float64)\n",
    "    row_start_index = 0\n",
    "    cnt = 0\n",
    "        \n",
    "    for i in range(n):\n",
    "        diag_cnt = row_start_index\n",
    "        for j in range(n):\n",
    "            if diag_cnt >= n*n:\n",
    "                break\n",
    "            A[i][j] = list[diag_cnt]\n",
    "            cnt += 1\n",
    "            diag_cnt += cnt\n",
    "        row_start_index += 2+i\n",
    "        cnt = i+1\n",
    "    stop = time.time()\n",
    "    return A\n",
    "\n",
    "M = make_matrix(k)\n",
    "\n",
    "U, S, V = svds(M)\n",
    "np.max(S)"
   ]
  },
  {
   "cell_type": "code",
   "execution_count": null,
   "metadata": {},
   "outputs": [],
   "source": []
  }
 ],
 "metadata": {
  "kernelspec": {
   "display_name": "Python 3 (ipykernel)",
   "language": "python",
   "name": "python3"
  },
  "language_info": {
   "codemirror_mode": {
    "name": "ipython",
    "version": 3
   },
   "file_extension": ".py",
   "mimetype": "text/x-python",
   "name": "python",
   "nbconvert_exporter": "python",
   "pygments_lexer": "ipython3",
   "version": "3.10.12"
  }
 },
 "nbformat": 4,
 "nbformat_minor": 4
}
